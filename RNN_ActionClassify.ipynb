{
  "nbformat": 4,
  "nbformat_minor": 0,
  "metadata": {
    "kernelspec": {
      "display_name": "Python 3",
      "language": "python",
      "name": "python3"
    },
    "language_info": {
      "codemirror_mode": {
        "name": "ipython",
        "version": 3
      },
      "file_extension": ".py",
      "mimetype": "text/x-python",
      "name": "python",
      "nbconvert_exporter": "python",
      "pygments_lexer": "ipython3",
      "version": "3.6.0"
    },
    "colab": {
      "name": "RNN_ActionClassify.ipynb",
      "provenance": [],
      "collapsed_sections": []
    }
  },
  "cells": [
    {
      "cell_type": "markdown",
      "metadata": {
        "id": "g9gL6InhzGno",
        "colab_type": "text"
      },
      "source": [
        "# Sequence Classification using Recurrent Neural Networks(RNN)\n",
        "In this homework, you will learn how to train a recurrent neural network for human action classification. RNN is designed handle sequential data. The network can incorporate both past history and current input. [This](http://colah.github.io/posts/2015-08-Understanding-LSTMs/) is a very good tutorial. You should read it before you start."
      ]
    },
    {
      "cell_type": "markdown",
      "metadata": {
        "id": "XFlewEI6zGnt",
        "colab_type": "text"
      },
      "source": [
        "## Setup\n",
        "Please make sure you have h5py and torchnet installed\n",
        "> pip install h5py\n",
        "\n",
        "> pip install git+https://github.com/pytorch/tnt.git@master\n"
      ]
    },
    {
      "cell_type": "code",
      "metadata": {
        "id": "xzmKOyGAzGnw",
        "colab_type": "code",
        "outputId": "29512350-b45d-4d38-dce7-6d71ed5f9bee",
        "colab": {}
      },
      "source": [
        "import os\n",
        "import numpy as np\n",
        "import h5py\n",
        "\n",
        "import torch\n",
        "import torch.nn as nn\n",
        "from torch.autograd import Variable\n",
        "import torch.utils.data as DD\n",
        "import torchnet as tnt\n",
        "\n",
        "use_cuda = torch.cuda.is_available()\n",
        "print('use cuda: %s'%(use_cuda))\n",
        "FloatTensor = torch.cuda.FloatTensor if use_cuda else torch.FloatTensor\n",
        "LongTensor = torch.cuda.LongTensor if use_cuda else torch.LongTensor\n",
        "ByteTensor = torch.cuda.ByteTensor if use_cuda else torch.ByteTensor\n"
      ],
      "execution_count": 0,
      "outputs": [
        {
          "output_type": "error",
          "ename": "ModuleNotFoundError",
          "evalue": "No module named 'torchnet'",
          "traceback": [
            "\u001b[0;31m---------------------------------------------------------------------------\u001b[0m",
            "\u001b[0;31mModuleNotFoundError\u001b[0m                       Traceback (most recent call last)",
            "\u001b[0;32m<ipython-input-1-a318be4c397c>\u001b[0m in \u001b[0;36m<module>\u001b[0;34m()\u001b[0m\n\u001b[1;32m      7\u001b[0m \u001b[0;32mfrom\u001b[0m \u001b[0mtorch\u001b[0m\u001b[0;34m.\u001b[0m\u001b[0mautograd\u001b[0m \u001b[0;32mimport\u001b[0m \u001b[0mVariable\u001b[0m\u001b[0;34m\u001b[0m\u001b[0m\n\u001b[1;32m      8\u001b[0m \u001b[0;32mimport\u001b[0m \u001b[0mtorch\u001b[0m\u001b[0;34m.\u001b[0m\u001b[0mutils\u001b[0m\u001b[0;34m.\u001b[0m\u001b[0mdata\u001b[0m \u001b[0;32mas\u001b[0m \u001b[0mDD\u001b[0m\u001b[0;34m\u001b[0m\u001b[0m\n\u001b[0;32m----> 9\u001b[0;31m \u001b[0;32mimport\u001b[0m \u001b[0mtorchnet\u001b[0m \u001b[0;32mas\u001b[0m \u001b[0mtnt\u001b[0m\u001b[0;34m\u001b[0m\u001b[0m\n\u001b[0m\u001b[1;32m     10\u001b[0m \u001b[0;34m\u001b[0m\u001b[0m\n\u001b[1;32m     11\u001b[0m \u001b[0muse_cuda\u001b[0m \u001b[0;34m=\u001b[0m \u001b[0mtorch\u001b[0m\u001b[0;34m.\u001b[0m\u001b[0mcuda\u001b[0m\u001b[0;34m.\u001b[0m\u001b[0mis_available\u001b[0m\u001b[0;34m(\u001b[0m\u001b[0;34m)\u001b[0m\u001b[0;34m\u001b[0m\u001b[0m\n",
            "\u001b[0;31mModuleNotFoundError\u001b[0m: No module named 'torchnet'"
          ]
        }
      ]
    },
    {
      "cell_type": "markdown",
      "metadata": {
        "id": "gMuQMMsCzGn_",
        "colab_type": "text"
      },
      "source": [
        "## Dataset\n",
        "The data we are using is skeleton data, which indicates the 3D locations of body joints. In total, there are 25 body joints. It is collected by Kinect v2. To make it easier, each sequence have same number of frames. You need to classify 10 different actions. There are 2000 training sequences, 400 validation sequences, and 500 test sequences. Each sequence has 15 frames, each frame is a 75-dimension vector (3*25). \n",
        "\n",
        "For your convenience, we provide the dataloader for you.\n"
      ]
    },
    {
      "cell_type": "code",
      "metadata": {
        "id": "EXO8pvo2zGoC",
        "colab_type": "code",
        "colab": {}
      },
      "source": [
        "class Dataset(DD.Dataset):\n",
        "    # subset can be: 'train', 'val', 'test'\n",
        "    def __init__(self, data_path, subset='train'):\n",
        "        super(Dataset, self).__init__()\n",
        "        self.data_path = os.path.join(data_path, '%s_data.h5'%subset)\n",
        "        self.subset = subset\n",
        "\n",
        "        with h5py.File(self.data_path) as f:\n",
        "            self.data = np.array(f['data'])\n",
        "\n",
        "        if subset != 'test':\n",
        "            self.label_path = os.path.join(data_path, '%s_label.h5'%subset)\n",
        "            with h5py.File(self.label_path) as f:\n",
        "                self.label = np.array(f['label'])\n",
        "\n",
        "        self.num_sequences = self.data.shape[0]\n",
        "        self.seq_len = self.data.shape[1]\n",
        "        self.n_dim = self.data.shape[2]\n",
        "\n",
        "    def __getitem__(self, index):\n",
        "        seq = self.data[index]\n",
        "        if self.subset != 'test':\n",
        "            label = int(self.label[index])\n",
        "            sample = {'seq': seq, 'label': label}\n",
        "        else:\n",
        "            sample = {'seq': seq}\n",
        "        return sample\n",
        "\n",
        "    def __len__(self):\n",
        "        return self.num_sequences\n",
        "\n",
        "trSet = Dataset('./data', subset='train')\n",
        "valSet = Dataset('./data', subset='val')\n",
        "tstSet = Dataset('./data', subset='test')\n",
        "\n",
        "batch_size = 50\n",
        "trLD = DD.DataLoader(trSet, batch_size=batch_size,\n",
        "       sampler=DD.sampler.RandomSampler(trSet),\n",
        "       num_workers=2, pin_memory=False)\n",
        "valLD = DD.DataLoader(valSet, batch_size=batch_size,\n",
        "       sampler=DD.sampler.SequentialSampler(valSet),\n",
        "       num_workers=1, pin_memory=False)\n",
        "tstLD = DD.DataLoader(tstSet, batch_size=batch_size,\n",
        "       sampler=DD.sampler.SequentialSampler(tstSet),\n",
        "       num_workers=1, pin_memory=False)\n",
        "\n",
        "input_dim = trSet.n_dim\n",
        "num_class = 10"
      ],
      "execution_count": 0,
      "outputs": []
    },
    {
      "cell_type": "markdown",
      "metadata": {
        "id": "WYZs2LMkzGoJ",
        "colab_type": "text"
      },
      "source": [
        "## Model\n",
        "Pytorch has implemented different types of recurrent layers for you. For this homework, you can use any type of RNNs as you want:\n",
        "> torch.nn.RNN()\n",
        "\n",
        "> torch.nn.LSTM()\n",
        "\n",
        "> torch.nn.GRU()\n",
        "\n",
        "You can check details for different types of recurrent layers here: [RNN](http://pytorch.org/docs/master/nn.html#torch.nn.RNN), [LSTM]( http://pytorch.org/docs/master/nn.html#torch.nn.LSTM), [GRU](http://pytorch.org/docs/master/nn.html#torch.nn.GRU)\n",
        "\n",
        "\n",
        "### Implement a specific model\n",
        "In this section, you need to implement a model for sequence classification. The model has following layers:\n",
        "* A linear layer that can map features of 75-dimension to 100-dimension.\n",
        "* 1 Layer LSTM layer with hidden size of 100\n",
        "* A linear layer that goes from 100 to num_class (10). \n",
        "\n",
        "An LSTM layer takes an input of size of (batch_size, seq_len, fea_dim) and outputs a variable of shape (batch_size, seq_len, hidden_size). In this homework, the classification score for a sequence is the classification score for the last step of rnn_outputs.\n",
        "\n"
      ]
    },
    {
      "cell_type": "code",
      "metadata": {
        "id": "p7fj2fjTzGoL",
        "colab_type": "code",
        "colab": {}
      },
      "source": [
        "# sequence classification model\n",
        "class SequenceClassify(nn.Module):\n",
        "    def __init__(self):\n",
        "        super(SequenceClassify, self).__init__()\n",
        "        \n",
        "        ############## 1st To Do (10 points) ##############\n",
        "        ###################################################\n",
        "        self.project_layer = None\n",
        "        self.recurrent_layer = None\n",
        "        self.classify_layer = None\n",
        "        ###################################################\n",
        "    \n",
        "    # the size of input is [batch_size, seq_len(15), input_dim(75)]\n",
        "    # the size of logits is [batch_size, num_class]\n",
        "    def forward(self, input, h_t_1=None, c_t_1=None):\n",
        "        # the size of rnn_outputs is [batch_size, seq_len, rnn_size]\n",
        "        rnn_outputs, (hn, cn) = self.recurrent_layer(self.project_layer(input))\n",
        "        # classify the last step of rnn_outpus\n",
        "        # the size of logits is [batch_size, num_class]\n",
        "        logits = self.project_layer(rnn_outputs[:,-1])\n",
        "        return logits\n",
        "\n",
        "model = SequenceClassify()"
      ],
      "execution_count": 0,
      "outputs": []
    },
    {
      "cell_type": "markdown",
      "metadata": {
        "id": "rQXf8dINzGoT",
        "colab_type": "text"
      },
      "source": [
        "## Train the model\n",
        "After you have the dataloader and model, you can start training the model. Define a SGD optimizer with learning rate of 1e-3, and a cross-entropy loss function:"
      ]
    },
    {
      "cell_type": "code",
      "metadata": {
        "id": "zo8WUdiIzGoU",
        "colab_type": "code",
        "colab": {}
      },
      "source": [
        "################ 2nd To Do  (5 points)##################\n",
        "optimizer = None\n",
        "criterion = None"
      ],
      "execution_count": 0,
      "outputs": []
    },
    {
      "cell_type": "code",
      "metadata": {
        "id": "nbus_qJIzGoZ",
        "colab_type": "code",
        "colab": {}
      },
      "source": [
        "# run the model for one epoch\n",
        "# can be used for both training or validation model\n",
        "def run_epoch(data_loader, model, criterion, epoch, is_training, optimizer=None):\n",
        "    if is_training:\n",
        "        model.train()\n",
        "        logger_prefix = 'train'\n",
        "    else:\n",
        "        model.eval()\n",
        "        logger_prefix = 'val'\n",
        "\n",
        "    confusion_matrix = tnt.meter.ConfusionMeter(num_class)\n",
        "    acc = tnt.meter.ClassErrorMeter(accuracy=True)\n",
        "    meter_loss = tnt.meter.AverageValueMeter()\n",
        "\n",
        "    for batch_idx, sample in enumerate(data_loader):\n",
        "        sequence = sample['seq']\n",
        "        label = sample['label']\n",
        "        input_sequence_var = Variable(sequence).type(FloatTensor)\n",
        "        input_label_var = Variable(label).type(LongTensor)\n",
        "\n",
        "        # compute output\n",
        "        # output_logits: [batch_size, num_class]\n",
        "        output_logits = model(input_sequence_var)\n",
        "        loss = criterion(output_logits, input_label_var)\n",
        "\n",
        "        if is_training:\n",
        "            optimizer.zero_grad()\n",
        "            loss.backward()\n",
        "            optimizer.step()\n",
        "\n",
        "        meter_loss.add(loss.data[0])\n",
        "        acc.add(output_logits.data, input_label_var.data)\n",
        "        confusion_matrix.add(output_logits.data, input_label_var.data)\n",
        "\n",
        "\n",
        "    print('%s Epoch: %d  , Loss: %.4f,  Accuracy: %.2f'%(logger_prefix, epoch, meter_loss.value()[0], acc.value()[0]))\n",
        "    return acc.value()[0]\n",
        "\n",
        "num_epochs = 1\n",
        "evaluate_every_epoch = 5\n",
        "for e in range(num_epochs):\n",
        "    run_epoch(trLD, model, criterion, e, True, optimizer)\n",
        "    if e % evaluate_every_epoch == 0:\n",
        "        run_epoch(valLD, model, criterion, e, False, None)   \n"
      ],
      "execution_count": 0,
      "outputs": []
    },
    {
      "cell_type": "markdown",
      "metadata": {
        "id": "r_hqe-krzGod",
        "colab_type": "text"
      },
      "source": [
        "## Submit your results \n",
        "\n",
        "### Train a better model for action recognition!\n",
        "Now it's your job to experiment with architectures, hyperparameters, loss functions, and optimizers to train a model that achieves better accuracy on the action recognition validation set. \n",
        "\n",
        "\n",
        "### Testing the model and reporting the results\n",
        "Test the model on the testing set and save the results as a .csv file. \n",
        "submit the results.csv file generated by predict_on_test(). Also mention the best performance on the Validation set, and submit the corresponding results csv file which results in the best performance. \n",
        "################ 3rd To Do  (15 points) ###############\n"
      ]
    },
    {
      "cell_type": "code",
      "metadata": {
        "id": "n87MwbsGzGoe",
        "colab_type": "code",
        "colab": {}
      },
      "source": [
        "# Use your best model to generate results on test set and validation set.\n",
        "\n",
        "# generate csv file for test set\n",
        "def predict_on_test(model, data_loader):\n",
        "    model.eval() # Put the model in test mode (the opposite of model.train(), essentially)\n",
        "    results=open('results.csv','w')\n",
        "    count=0\n",
        "    results.write('Id'+','+'Class'+'\\n')\n",
        "    for batch_idx, sample in enumerate(data_loader):\n",
        "        sequence = sample['seq']\n",
        "        input_sequence_var = Variable(sequence).type(FloatTensor)\n",
        "        scores = model(input_sequence_var)\n",
        "        _, preds = scores.data.max(1)\n",
        "        for i in range(len(preds)):\n",
        "            results.write(str(count)+','+str(preds[i])+'\\n')\n",
        "            count+=1\n",
        "    results.close()\n",
        "    return count\n",
        "\n",
        "count=predict_on_test(model, tstLD)\n",
        "print(count)"
      ],
      "execution_count": 0,
      "outputs": []
    },
    {
      "cell_type": "markdown",
      "metadata": {
        "id": "yJua9UOMzGoi",
        "colab_type": "text"
      },
      "source": [
        "## Report the performance\n",
        "################ 4th To Do  (5 points)##################\n",
        "\n",
        "In this cell, you should write an explanation of what you did (network architecture, optimiziter, learning rate, epoches) and any visualizations or graphs that you make in the process of training and evaluating your network.\n",
        "\n"
      ]
    },
    {
      "cell_type": "markdown",
      "metadata": {
        "id": "RsPkGp53zGoi",
        "colab_type": "text"
      },
      "source": [
        ""
      ]
    }
  ]
}